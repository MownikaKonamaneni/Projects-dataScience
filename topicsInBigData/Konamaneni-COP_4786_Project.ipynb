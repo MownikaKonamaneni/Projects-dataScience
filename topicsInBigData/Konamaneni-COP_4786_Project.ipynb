{
 "cells": [
  {
   "cell_type": "markdown",
   "id": "b52052f6-bda3-4948-8882-9ec32bddefad",
   "metadata": {},
   "source": [
    "# Project - Topics in Big Data Analytics"
   ]
  },
  {
   "cell_type": "markdown",
   "id": "6d50ef92-871c-46fa-bf29-2ba95177e63b",
   "metadata": {},
   "source": [
    "## Sentiment analysis on Twitter data"
   ]
  },
  {
   "cell_type": "code",
   "execution_count": 133,
   "id": "7adef525-8979-408d-b6a7-0be481f9ff17",
   "metadata": {},
   "outputs": [
    {
     "name": "stderr",
     "output_type": "stream",
     "text": [
      "[nltk_data] Downloading package stopwords to\n",
      "[nltk_data]     C:\\Users\\mowni\\AppData\\Roaming\\nltk_data...\n",
      "[nltk_data]   Package stopwords is already up-to-date!\n"
     ]
    }
   ],
   "source": [
    "# Load libraries\n",
    "import tensorflow as tf\n",
    "import tensorflow_hub as hub\n",
    "import pandas as pd\n",
    "import nltk\n",
    "nltk.download('stopwords')\n",
    "from nltk.corpus import stopwords\n",
    "from nltk.stem import PorterStemmer\n",
    "import re\n",
    "from bs4 import BeautifulSoup\n",
    "import tensorflow_text as text\n",
    "import numpy as np\n",
    "from sklearn.model_selection import train_test_split\n",
    "import seaborn as sns\n",
    "from sklearn.metrics import plot_confusion_matrix \n",
    "from sklearn.metrics import confusion_matrix\n",
    "import matplotlib.pyplot as plt\n",
    "from sklearn.metrics import accuracy_score\n",
    "from sklearn.metrics import precision_recall_fscore_support, roc_auc_score\n",
    "from transformers import TFAutoModel, AutoTokenizer\n",
    "from sklearn.linear_model import LogisticRegression"
   ]
  },
  {
   "cell_type": "code",
   "execution_count": 134,
   "id": "dc5b5091-d7a8-4715-b87a-7f067dca173d",
   "metadata": {},
   "outputs": [
    {
     "data": {
      "text/html": [
       "<div>\n",
       "<style scoped>\n",
       "    .dataframe tbody tr th:only-of-type {\n",
       "        vertical-align: middle;\n",
       "    }\n",
       "\n",
       "    .dataframe tbody tr th {\n",
       "        vertical-align: top;\n",
       "    }\n",
       "\n",
       "    .dataframe thead th {\n",
       "        text-align: right;\n",
       "    }\n",
       "</style>\n",
       "<table border=\"1\" class=\"dataframe\">\n",
       "  <thead>\n",
       "    <tr style=\"text-align: right;\">\n",
       "      <th></th>\n",
       "      <th>0</th>\n",
       "      <th>1</th>\n",
       "      <th>2</th>\n",
       "      <th>3</th>\n",
       "      <th>4</th>\n",
       "      <th>5</th>\n",
       "    </tr>\n",
       "  </thead>\n",
       "  <tbody>\n",
       "    <tr>\n",
       "      <th>0</th>\n",
       "      <td>0</td>\n",
       "      <td>1467810369</td>\n",
       "      <td>Mon Apr 06 22:19:45 PDT 2009</td>\n",
       "      <td>NO_QUERY</td>\n",
       "      <td>_TheSpecialOne_</td>\n",
       "      <td>@switchfoot http://twitpic.com/2y1zl - Awww, t...</td>\n",
       "    </tr>\n",
       "    <tr>\n",
       "      <th>1</th>\n",
       "      <td>0</td>\n",
       "      <td>1467810672</td>\n",
       "      <td>Mon Apr 06 22:19:49 PDT 2009</td>\n",
       "      <td>NO_QUERY</td>\n",
       "      <td>scotthamilton</td>\n",
       "      <td>is upset that he can't update his Facebook by ...</td>\n",
       "    </tr>\n",
       "    <tr>\n",
       "      <th>2</th>\n",
       "      <td>0</td>\n",
       "      <td>1467810917</td>\n",
       "      <td>Mon Apr 06 22:19:53 PDT 2009</td>\n",
       "      <td>NO_QUERY</td>\n",
       "      <td>mattycus</td>\n",
       "      <td>@Kenichan I dived many times for the ball. Man...</td>\n",
       "    </tr>\n",
       "    <tr>\n",
       "      <th>3</th>\n",
       "      <td>0</td>\n",
       "      <td>1467811184</td>\n",
       "      <td>Mon Apr 06 22:19:57 PDT 2009</td>\n",
       "      <td>NO_QUERY</td>\n",
       "      <td>ElleCTF</td>\n",
       "      <td>my whole body feels itchy and like its on fire</td>\n",
       "    </tr>\n",
       "    <tr>\n",
       "      <th>4</th>\n",
       "      <td>0</td>\n",
       "      <td>1467811193</td>\n",
       "      <td>Mon Apr 06 22:19:57 PDT 2009</td>\n",
       "      <td>NO_QUERY</td>\n",
       "      <td>Karoli</td>\n",
       "      <td>@nationwideclass no, it's not behaving at all....</td>\n",
       "    </tr>\n",
       "  </tbody>\n",
       "</table>\n",
       "</div>"
      ],
      "text/plain": [
       "   0           1                             2         3                4  \\\n",
       "0  0  1467810369  Mon Apr 06 22:19:45 PDT 2009  NO_QUERY  _TheSpecialOne_   \n",
       "1  0  1467810672  Mon Apr 06 22:19:49 PDT 2009  NO_QUERY    scotthamilton   \n",
       "2  0  1467810917  Mon Apr 06 22:19:53 PDT 2009  NO_QUERY         mattycus   \n",
       "3  0  1467811184  Mon Apr 06 22:19:57 PDT 2009  NO_QUERY          ElleCTF   \n",
       "4  0  1467811193  Mon Apr 06 22:19:57 PDT 2009  NO_QUERY           Karoli   \n",
       "\n",
       "                                                   5  \n",
       "0  @switchfoot http://twitpic.com/2y1zl - Awww, t...  \n",
       "1  is upset that he can't update his Facebook by ...  \n",
       "2  @Kenichan I dived many times for the ball. Man...  \n",
       "3    my whole body feels itchy and like its on fire   \n",
       "4  @nationwideclass no, it's not behaving at all....  "
      ]
     },
     "execution_count": 134,
     "metadata": {},
     "output_type": "execute_result"
    }
   ],
   "source": [
    "# Import dataset\n",
    "df = pd.read_csv(\"twitter_data.csv\", encoding = 'latin', header = None)\n",
    "df.head()"
   ]
  },
  {
   "cell_type": "code",
   "execution_count": 135,
   "id": "768c135b-08c1-4b84-8eef-a681adea01a0",
   "metadata": {},
   "outputs": [],
   "source": [
    "#Prepare data by removing unnecessary columns\n",
    "df = df[[0, 5]]\n",
    "df.columns = ['sentiments', 'tweet']  #labels for columns\n",
    "df = df.replace([4], [1])  #replacing sentiment 4 with 1\n",
    "df = df[['sentiments', 'tweet']].dropna()     #drop where NaNs present"
   ]
  },
  {
   "cell_type": "code",
   "execution_count": 136,
   "id": "a7ee7e00-19b7-46b2-bee9-a2dca7251c68",
   "metadata": {},
   "outputs": [
    {
     "data": {
      "text/html": [
       "<div>\n",
       "<style scoped>\n",
       "    .dataframe tbody tr th:only-of-type {\n",
       "        vertical-align: middle;\n",
       "    }\n",
       "\n",
       "    .dataframe tbody tr th {\n",
       "        vertical-align: top;\n",
       "    }\n",
       "\n",
       "    .dataframe thead th {\n",
       "        text-align: right;\n",
       "    }\n",
       "</style>\n",
       "<table border=\"1\" class=\"dataframe\">\n",
       "  <thead>\n",
       "    <tr style=\"text-align: right;\">\n",
       "      <th></th>\n",
       "      <th>sentiments</th>\n",
       "      <th>tweet</th>\n",
       "    </tr>\n",
       "  </thead>\n",
       "  <tbody>\n",
       "    <tr>\n",
       "      <th>0</th>\n",
       "      <td>0</td>\n",
       "      <td>@switchfoot http://twitpic.com/2y1zl - Awww, t...</td>\n",
       "    </tr>\n",
       "    <tr>\n",
       "      <th>1</th>\n",
       "      <td>0</td>\n",
       "      <td>is upset that he can't update his Facebook by ...</td>\n",
       "    </tr>\n",
       "    <tr>\n",
       "      <th>2</th>\n",
       "      <td>0</td>\n",
       "      <td>@Kenichan I dived many times for the ball. Man...</td>\n",
       "    </tr>\n",
       "    <tr>\n",
       "      <th>3</th>\n",
       "      <td>0</td>\n",
       "      <td>my whole body feels itchy and like its on fire</td>\n",
       "    </tr>\n",
       "    <tr>\n",
       "      <th>4</th>\n",
       "      <td>0</td>\n",
       "      <td>@nationwideclass no, it's not behaving at all....</td>\n",
       "    </tr>\n",
       "  </tbody>\n",
       "</table>\n",
       "</div>"
      ],
      "text/plain": [
       "   sentiments                                              tweet\n",
       "0           0  @switchfoot http://twitpic.com/2y1zl - Awww, t...\n",
       "1           0  is upset that he can't update his Facebook by ...\n",
       "2           0  @Kenichan I dived many times for the ball. Man...\n",
       "3           0    my whole body feels itchy and like its on fire \n",
       "4           0  @nationwideclass no, it's not behaving at all...."
      ]
     },
     "execution_count": 136,
     "metadata": {},
     "output_type": "execute_result"
    }
   ],
   "source": [
    "df.head()"
   ]
  },
  {
   "cell_type": "code",
   "execution_count": 137,
   "id": "e98d9086-e755-4f9f-a6c2-d5b813100318",
   "metadata": {},
   "outputs": [
    {
     "data": {
      "text/plain": [
       "(1600000, 2)"
      ]
     },
     "execution_count": 137,
     "metadata": {},
     "output_type": "execute_result"
    }
   ],
   "source": [
    "# Analysing the data\n",
    "\n",
    "df.shape"
   ]
  },
  {
   "cell_type": "code",
   "execution_count": 138,
   "id": "8c801560-7121-4292-b9b0-e820ffbea9b7",
   "metadata": {},
   "outputs": [
    {
     "data": {
      "text/html": [
       "<div>\n",
       "<style scoped>\n",
       "    .dataframe tbody tr th:only-of-type {\n",
       "        vertical-align: middle;\n",
       "    }\n",
       "\n",
       "    .dataframe tbody tr th {\n",
       "        vertical-align: top;\n",
       "    }\n",
       "\n",
       "    .dataframe thead tr th {\n",
       "        text-align: left;\n",
       "    }\n",
       "\n",
       "    .dataframe thead tr:last-of-type th {\n",
       "        text-align: right;\n",
       "    }\n",
       "</style>\n",
       "<table border=\"1\" class=\"dataframe\">\n",
       "  <thead>\n",
       "    <tr>\n",
       "      <th></th>\n",
       "      <th colspan=\"4\" halign=\"left\">tweet</th>\n",
       "    </tr>\n",
       "    <tr>\n",
       "      <th></th>\n",
       "      <th>count</th>\n",
       "      <th>unique</th>\n",
       "      <th>top</th>\n",
       "      <th>freq</th>\n",
       "    </tr>\n",
       "    <tr>\n",
       "      <th>sentiments</th>\n",
       "      <th></th>\n",
       "      <th></th>\n",
       "      <th></th>\n",
       "      <th></th>\n",
       "    </tr>\n",
       "  </thead>\n",
       "  <tbody>\n",
       "    <tr>\n",
       "      <th>0</th>\n",
       "      <td>800000</td>\n",
       "      <td>790185</td>\n",
       "      <td>isPlayer Has Died! Sorry</td>\n",
       "      <td>210</td>\n",
       "    </tr>\n",
       "    <tr>\n",
       "      <th>1</th>\n",
       "      <td>800000</td>\n",
       "      <td>793506</td>\n",
       "      <td>good morning</td>\n",
       "      <td>118</td>\n",
       "    </tr>\n",
       "  </tbody>\n",
       "</table>\n",
       "</div>"
      ],
      "text/plain": [
       "             tweet                                        \n",
       "             count  unique                        top freq\n",
       "sentiments                                                \n",
       "0           800000  790185  isPlayer Has Died! Sorry   210\n",
       "1           800000  793506              good morning   118"
      ]
     },
     "execution_count": 138,
     "metadata": {},
     "output_type": "execute_result"
    }
   ],
   "source": [
    "df.groupby('sentiments').describe()"
   ]
  },
  {
   "cell_type": "code",
   "execution_count": 139,
   "id": "c9f31b6a-ca23-44f3-a4b4-272185baf82e",
   "metadata": {},
   "outputs": [],
   "source": [
    "# # The dataset is very large, so I take .02%, Stratified sampling to balance\n",
    "sampleDf = df.groupby('sentiments', group_keys=False).apply(lambda x: x.sample(frac=0.01))\n",
    "ps = PorterStemmer()"
   ]
  },
  {
   "cell_type": "code",
   "execution_count": 140,
   "id": "80cf52c0-505a-442a-bd18-9c23d6bfdc0f",
   "metadata": {},
   "outputs": [
    {
     "data": {
      "text/plain": [
       "(16000, 2)"
      ]
     },
     "execution_count": 140,
     "metadata": {},
     "output_type": "execute_result"
    }
   ],
   "source": [
    "sampleDf.shape"
   ]
  },
  {
   "cell_type": "code",
   "execution_count": 141,
   "id": "42d20a07-baca-4da1-a021-7d9095037e0c",
   "metadata": {},
   "outputs": [
    {
     "data": {
      "text/html": [
       "<div>\n",
       "<style scoped>\n",
       "    .dataframe tbody tr th:only-of-type {\n",
       "        vertical-align: middle;\n",
       "    }\n",
       "\n",
       "    .dataframe tbody tr th {\n",
       "        vertical-align: top;\n",
       "    }\n",
       "\n",
       "    .dataframe thead tr th {\n",
       "        text-align: left;\n",
       "    }\n",
       "\n",
       "    .dataframe thead tr:last-of-type th {\n",
       "        text-align: right;\n",
       "    }\n",
       "</style>\n",
       "<table border=\"1\" class=\"dataframe\">\n",
       "  <thead>\n",
       "    <tr>\n",
       "      <th></th>\n",
       "      <th colspan=\"4\" halign=\"left\">tweet</th>\n",
       "    </tr>\n",
       "    <tr>\n",
       "      <th></th>\n",
       "      <th>count</th>\n",
       "      <th>unique</th>\n",
       "      <th>top</th>\n",
       "      <th>freq</th>\n",
       "    </tr>\n",
       "    <tr>\n",
       "      <th>sentiments</th>\n",
       "      <th></th>\n",
       "      <th></th>\n",
       "      <th></th>\n",
       "      <th></th>\n",
       "    </tr>\n",
       "  </thead>\n",
       "  <tbody>\n",
       "    <tr>\n",
       "      <th>0</th>\n",
       "      <td>8000</td>\n",
       "      <td>7990</td>\n",
       "      <td>isPlayer Has Died! Sorry</td>\n",
       "      <td>4</td>\n",
       "    </tr>\n",
       "    <tr>\n",
       "      <th>1</th>\n",
       "      <td>8000</td>\n",
       "      <td>7995</td>\n",
       "      <td>Watching Kobe Doin' Work inside my bed  http:/...</td>\n",
       "      <td>2</td>\n",
       "    </tr>\n",
       "  </tbody>\n",
       "</table>\n",
       "</div>"
      ],
      "text/plain": [
       "           tweet                                                            \\\n",
       "           count unique                                                top   \n",
       "sentiments                                                                   \n",
       "0           8000   7990                          isPlayer Has Died! Sorry    \n",
       "1           8000   7995  Watching Kobe Doin' Work inside my bed  http:/...   \n",
       "\n",
       "                 \n",
       "           freq  \n",
       "sentiments       \n",
       "0             4  \n",
       "1             2  "
      ]
     },
     "execution_count": 141,
     "metadata": {},
     "output_type": "execute_result"
    }
   ],
   "source": [
    "sampleDf.groupby('sentiments').describe()"
   ]
  },
  {
   "cell_type": "markdown",
   "id": "249abc95-a1c0-443e-9a46-04835c6ac0cf",
   "metadata": {},
   "source": [
    "# Text Preprocessing"
   ]
  },
  {
   "cell_type": "code",
   "execution_count": 142,
   "id": "3c4df45c-8a9e-4dcb-8702-30499c666d65",
   "metadata": {},
   "outputs": [],
   "source": [
    "def clean_tweet(tweet):\n",
    "    tweet = BeautifulSoup(tweet, \"lxml\").get_text()\n",
    "    tweet = re.sub(r\"@[A-Za-z0-9]+\", ' ', tweet)              # remove all letters and numbers after @ sign, in sentence (text)\n",
    "    tweet = re.sub(r\"https?://[A-Za-z0-9./]+\", ' ', tweet)    # remove urls, http and https, many times as need it\n",
    "    tweet = re.sub(r\"[^A-za-z.!?']\", ' ', tweet)              # remove chars that are not AZ,az, !?'\n",
    "    tweet = re.sub(r'[.,\"\\'-?:!;]', ' ', tweet)\n",
    "    tweet = re.sub(r\" +\", ' ', tweet)                         # replace white spaces (at least two or more) to one white space\n",
    "    return tweet"
   ]
  },
  {
   "cell_type": "code",
   "execution_count": 143,
   "id": "4a54fa64-6ded-45d3-86d3-da0d31eff0e8",
   "metadata": {},
   "outputs": [
    {
     "name": "stderr",
     "output_type": "stream",
     "text": [
      "C:\\Users\\mowni\\anaconda3\\lib\\site-packages\\bs4\\__init__.py:435: MarkupResemblesLocatorWarning: The input looks more like a filename than markup. You may want to open this file and pass the filehandle into Beautiful Soup.\n",
      "  warnings.warn(\n"
     ]
    }
   ],
   "source": [
    "sampleDf['tweet'] = sampleDf.tweet.apply(clean_tweet)"
   ]
  },
  {
   "cell_type": "code",
   "execution_count": 144,
   "id": "0e7ec298-d42f-453c-8867-30579f3e25a3",
   "metadata": {},
   "outputs": [],
   "source": [
    "X_train, X_test, y_train, y_test = train_test_split(sampleDf['tweet'], sampleDf['sentiments'], test_size=0.30, stratify=sampleDf['sentiments'])"
   ]
  },
  {
   "cell_type": "code",
   "execution_count": 145,
   "id": "7a826f7c-dfd6-48a3-9ee7-befad0c6457f",
   "metadata": {},
   "outputs": [
    {
     "data": {
      "text/plain": [
       "1    5600\n",
       "0    5600\n",
       "Name: sentiments, dtype: int64"
      ]
     },
     "execution_count": 145,
     "metadata": {},
     "output_type": "execute_result"
    }
   ],
   "source": [
    "y_train.value_counts()"
   ]
  },
  {
   "cell_type": "code",
   "execution_count": 146,
   "id": "10d664de-c522-4ac1-8ef1-a6fba9944021",
   "metadata": {},
   "outputs": [
    {
     "data": {
      "text/plain": [
       "0    2400\n",
       "1    2400\n",
       "Name: sentiments, dtype: int64"
      ]
     },
     "execution_count": 146,
     "metadata": {},
     "output_type": "execute_result"
    }
   ],
   "source": [
    "y_test.value_counts()"
   ]
  },
  {
   "cell_type": "markdown",
   "id": "1573a0fe-79bb-4161-85e8-35831815f04d",
   "metadata": {},
   "source": [
    "# Embedding layer using tensor flow BERT model"
   ]
  },
  {
   "cell_type": "code",
   "execution_count": 147,
   "id": "0fdd0eea-75ee-4035-a923-f6de9948961a",
   "metadata": {},
   "outputs": [],
   "source": [
    "bert_preprocess = hub.KerasLayer('https://tfhub.dev/tensorflow/bert_en_uncased_preprocess/3')\n",
    "\n",
    "bert_encoder = hub.KerasLayer('https://tfhub.dev/tensorflow/bert_en_uncased_L-12_H-768_A-12/4')"
   ]
  },
  {
   "cell_type": "code",
   "execution_count": 148,
   "id": "476d2837-d479-4189-8e89-f6707eac3a63",
   "metadata": {
    "tags": []
   },
   "outputs": [
    {
     "name": "stdout",
     "output_type": "stream",
     "text": [
      "Model: \"model_1\"\n",
      "__________________________________________________________________________________________________\n",
      " Layer (type)                   Output Shape         Param #     Connected to                     \n",
      "==================================================================================================\n",
      " text (InputLayer)              [(None,)]            0           []                               \n",
      "                                                                                                  \n",
      " keras_layer_2 (KerasLayer)     {'input_mask': (Non  0           ['text[0][0]']                   \n",
      "                                e, 128),                                                          \n",
      "                                 'input_type_ids':                                                \n",
      "                                (None, 128),                                                      \n",
      "                                 'input_word_ids':                                                \n",
      "                                (None, 128)}                                                      \n",
      "                                                                                                  \n",
      " keras_layer_3 (KerasLayer)     {'default': (None,   109482241   ['keras_layer_2[0][0]',          \n",
      "                                768),                             'keras_layer_2[0][1]',          \n",
      "                                 'encoder_outputs':               'keras_layer_2[0][2]']          \n",
      "                                 [(None, 128, 768),                                               \n",
      "                                 (None, 128, 768),                                                \n",
      "                                 (None, 128, 768),                                                \n",
      "                                 (None, 128, 768),                                                \n",
      "                                 (None, 128, 768),                                                \n",
      "                                 (None, 128, 768),                                                \n",
      "                                 (None, 128, 768),                                                \n",
      "                                 (None, 128, 768),                                                \n",
      "                                 (None, 128, 768),                                                \n",
      "                                 (None, 128, 768),                                                \n",
      "                                 (None, 128, 768),                                                \n",
      "                                 (None, 128, 768)],                                               \n",
      "                                 'pooled_output': (                                               \n",
      "                                None, 768),                                                       \n",
      "                                 'sequence_output':                                               \n",
      "                                 (None, 128, 768)}                                                \n",
      "                                                                                                  \n",
      " dropout (Dropout)              (None, 768)          0           ['keras_layer_3[0][13]']         \n",
      "                                                                                                  \n",
      " output (Dense)                 (None, 1)            769         ['dropout[0][0]']                \n",
      "                                                                                                  \n",
      "==================================================================================================\n",
      "Total params: 109,483,010\n",
      "Trainable params: 769\n",
      "Non-trainable params: 109,482,241\n",
      "__________________________________________________________________________________________________\n"
     ]
    }
   ],
   "source": [
    "# Bert layers\n",
    "tweet_input = tf.keras.layers.Input(shape=(), dtype=tf.string, name='text')  #Input layer\n",
    "preprocessed_tweet = bert_preprocess(tweet_input)  #Keras layer\n",
    "outputs = bert_encoder(preprocessed_tweet)    #Keras layer 1\n",
    "# Neural network layers\n",
    "layer1 = tf.keras.layers.Dropout(0.1, name=\"dropout\")(outputs['pooled_output']) #Dropout layer\n",
    "layer2 = tf.keras.layers.Dense(1, activation='sigmoid', name=\"output\")(layer1)  #Output layer\n",
    "\n",
    "# Use inputs and outputs to construct a final model\n",
    "bert_model = tf.keras.Model(inputs=[tweet_input], outputs = [layer2])\n",
    "# model = tf.keras.models.load_model('path/to/location')\n",
    "bert_model.summary()"
   ]
  },
  {
   "cell_type": "code",
   "execution_count": 149,
   "id": "52e19f0f-3864-4f77-8915-2c488ed9eb23",
   "metadata": {},
   "outputs": [],
   "source": [
    "bert_model.compile(optimizer='adam',\n",
    "                        loss='binary_crossentropy',\n",
    "                     metrics=['accuracy'])"
   ]
  },
  {
   "cell_type": "code",
   "execution_count": 150,
   "id": "ca41f7e6-d8ba-4af9-a43e-e19e4d8ebbe7",
   "metadata": {
    "tags": []
   },
   "outputs": [
    {
     "name": "stdout",
     "output_type": "stream",
     "text": [
      "Epoch 1/3\n",
      "350/350 [==============================] - 2421s 7s/step - loss: 0.6776 - accuracy: 0.5713\n",
      "Epoch 2/3\n",
      "350/350 [==============================] - 2360s 7s/step - loss: 0.6330 - accuracy: 0.6457\n",
      "Epoch 3/3\n",
      "350/350 [==============================] - 2318s 7s/step - loss: 0.6069 - accuracy: 0.6776\n"
     ]
    },
    {
     "data": {
      "text/plain": [
       "<keras.callbacks.History at 0x2e1104baac0>"
      ]
     },
     "execution_count": 150,
     "metadata": {},
     "output_type": "execute_result"
    }
   ],
   "source": [
    "bert_model.fit(X_train, y_train, epochs=3)"
   ]
  },
  {
   "cell_type": "code",
   "execution_count": 151,
   "id": "8941ba2e-4259-4d09-a9ce-6e0cac2d67ee",
   "metadata": {
    "tags": []
   },
   "outputs": [
    {
     "name": "stdout",
     "output_type": "stream",
     "text": [
      "150/150 [==============================] - 1016s 7s/step - loss: 0.6023 - accuracy: 0.6660\n"
     ]
    },
    {
     "data": {
      "text/plain": [
       "[0.6022523641586304, 0.6660416722297668]"
      ]
     },
     "execution_count": 151,
     "metadata": {},
     "output_type": "execute_result"
    }
   ],
   "source": [
    "bert_model.evaluate(X_test, y_test)"
   ]
  },
  {
   "cell_type": "code",
   "execution_count": 152,
   "id": "77ceb530-4e65-4d66-b472-0a218b4dc82e",
   "metadata": {
    "tags": []
   },
   "outputs": [
    {
     "name": "stdout",
     "output_type": "stream",
     "text": [
      "150/150 [==============================] - 999s 7s/step\n"
     ]
    }
   ],
   "source": [
    "y_pred = bert_model.predict(X_test)"
   ]
  },
  {
   "cell_type": "code",
   "execution_count": 159,
   "id": "b3bf16d9-5501-4f53-a22a-041440bce3f1",
   "metadata": {},
   "outputs": [
    {
     "ename": "IndexError",
     "evalue": "too many indices for array: array is 1-dimensional, but 2 were indexed",
     "output_type": "error",
     "traceback": [
      "\u001b[1;31m---------------------------------------------------------------------------\u001b[0m",
      "\u001b[1;31mIndexError\u001b[0m                                Traceback (most recent call last)",
      "Input \u001b[1;32mIn [159]\u001b[0m, in \u001b[0;36m<cell line: 1>\u001b[1;34m()\u001b[0m\n\u001b[1;32m----> 1\u001b[0m y_pred \u001b[38;5;241m=\u001b[39m np\u001b[38;5;241m.\u001b[39mwhere(\u001b[43my_pred\u001b[49m\u001b[43m[\u001b[49m\u001b[43m:\u001b[49m\u001b[43m,\u001b[49m\u001b[38;5;241;43m0\u001b[39;49m\u001b[43m]\u001b[49m\u001b[38;5;241m>\u001b[39m\u001b[38;5;241m0.5\u001b[39m, \u001b[38;5;241m1\u001b[39m, \u001b[38;5;241m0\u001b[39m)\n",
      "\u001b[1;31mIndexError\u001b[0m: too many indices for array: array is 1-dimensional, but 2 were indexed"
     ]
    }
   ],
   "source": [
    "y_pred = np.where(y_pred[:,0]>0.5, 1, 0)"
   ]
  },
  {
   "cell_type": "code",
   "execution_count": 154,
   "id": "c660c580-606f-4f24-a907-66a972a900d2",
   "metadata": {},
   "outputs": [
    {
     "data": {
      "image/png": "[encoded data removed]",
      "text/plain": [
       "<Figure size 432x288 with 2 Axes>"
      ]
     },
     "metadata": {
      "needs_background": "light"
     },
     "output_type": "display_data"
    }
   ],
   "source": [
    "cm = confusion_matrix(y_test, y_pred )\n",
    "class_names = ['negative', 'positive']\n",
    "df_cm = pd.DataFrame(cm, index=class_names, columns=class_names)\n",
    "hmap = sns.heatmap(cm, annot=True, fmt=\"d\", cmap=\"Blues\")\n",
    "hmap.yaxis.set_ticklabels(hmap.yaxis.get_ticklabels(), rotation=0, ha='right')\n",
    "hmap.xaxis.set_ticklabels(hmap.xaxis.get_ticklabels(), rotation=30, ha='right')\n",
    "plt.ylabel('True sentiment')\n",
    "plt.xlabel('Predicted sentiment');"
   ]
  },
  {
   "cell_type": "code",
   "execution_count": 156,
   "id": "0d2e0583-876e-4321-9578-d223f26c7643",
   "metadata": {},
   "outputs": [
    {
     "data": {
      "text/plain": [
       "0.6660416666666666"
      ]
     },
     "execution_count": 156,
     "metadata": {},
     "output_type": "execute_result"
    }
   ],
   "source": [
    "accuracy_score(y_test, y_pred)"
   ]
  },
  {
   "cell_type": "code",
   "execution_count": 168,
   "id": "fc202bbb-55bb-4e9f-9567-7e657445b08e",
   "metadata": {},
   "outputs": [
    {
     "name": "stdout",
     "output_type": "stream",
     "text": [
      "precision: 0.6162146398366871\n",
      "recall: 0.8804166666666666\n",
      "f1-score: 0.7249957110996741\n",
      "support: 2400\n"
     ]
    }
   ],
   "source": [
    "metric_names = ['precision','recall','f1-score','support']\n",
    "metric_values = precision_recall_fscore_support(y_test, y_pred)\n",
    "for i in range(0, len(metric_values)):\n",
    "    # print('{0}: {1}'.format(metric_names[i], metric_values[i]))\n",
    "    print('{0}: {1}'.format(metric_names[i], metric_values[i][1]))"
   ]
  },
  {
   "cell_type": "code",
   "execution_count": 158,
   "id": "9d0fc46e-0926-40a2-aceb-e800797c0d82",
   "metadata": {},
   "outputs": [
    {
     "name": "stdout",
     "output_type": "stream",
     "text": [
      "150/150 [==============================] - 1006s 7s/step\n",
      "auc_score_bert: 0.7756272569444446\n"
     ]
    }
   ],
   "source": [
    "print(f'auc_score_bert: {roc_auc_score(y_test, bert_model.predict(X_test))}')"
   ]
  },
  {
   "cell_type": "markdown",
   "id": "2f208d23-3be6-4cb8-9cef-1a56183f0450",
   "metadata": {},
   "source": [
    "# Sentiment analysis using Random forest classifier"
   ]
  },
  {
   "cell_type": "code",
   "execution_count": 17,
   "id": "31e0e6b3-7170-4af5-b020-3c983baedcae",
   "metadata": {},
   "outputs": [
    {
     "name": "stdout",
     "output_type": "stream",
     "text": [
      "The number of stopword: 179\n",
      "The number of punctuations: 32\n"
     ]
    },
    {
     "name": "stderr",
     "output_type": "stream",
     "text": [
      "[nltk_data] Downloading package stopwords to\n",
      "[nltk_data]     C:\\Users\\mowni\\AppData\\Roaming\\nltk_data...\n",
      "[nltk_data]   Package stopwords is already up-to-date!\n",
      "[nltk_data] Downloading package wordnet to\n",
      "[nltk_data]     C:\\Users\\mowni\\AppData\\Roaming\\nltk_data...\n",
      "[nltk_data]   Package wordnet is already up-to-date!\n"
     ]
    }
   ],
   "source": [
    "# Data pre-professing in text\n",
    "import nltk\n",
    "nltk.download('stopwords')\n",
    "nltk.download('wordnet')\n",
    "import string\n",
    "from nltk.corpus import stopwords\n",
    "from nltk.stem.wordnet import WordNetLemmatizer # reference; https://www.nltk.org/_modules/nltk/stem/wordnet.html\n",
    "# nltk.download('wordnet')\n",
    "\n",
    "stop_words = stopwords.words('english')\n",
    "print(f'The number of stopword: {len(stop_words)}')\n",
    "punctuations = string.punctuation\n",
    "print(f'The number of punctuations: {len(punctuations)}')\n",
    "lemma = WordNetLemmatizer()\n",
    "\n",
    "def clean_text_list(text_list):\n",
    "    # step1. lower  \n",
    "    lower =  [x.lower() for x in text_list]   # Ref: https://stackoverflow.com/questions/1801668/convert-a-python-list-with-strings-all-to-lowercase-or-uppercase\n",
    "    \n",
    "    # step2. split  \n",
    "    split =  [x.split() for x in lower]  \n",
    " \n",
    "    # step3. remove stopwords\n",
    "    no_stopword = [[i for i in doc if i not in stop_words] for doc in split]\n",
    "\n",
    "    # step4. remove punctuations\n",
    "    no_punctuations = [[i for i in doc if i not in punctuations] for doc in no_stopword] \n",
    "    \n",
    "    # step5. remove numbers, but not words that contain numbers.\n",
    "    no_number = [[token for token in doc if not token.isnumeric()] for doc in no_punctuations]\n",
    "    \n",
    "    # step6. remove single charater\n",
    "    no_single_chararter = [[token for token in doc if len(token) > 1] for doc in no_number]\n",
    "\n",
    "    # step7. Lemmatizer\n",
    "    lemmatizer = WordNetLemmatizer()\n",
    "    docs = [[lemmatizer.lemmatize(token) for token in doc] for doc in no_single_chararter]\n",
    "    return docs"
   ]
  },
  {
   "cell_type": "code",
   "execution_count": 21,
   "id": "0f1f60e1-203d-4d1d-ad70-0de8482a874c",
   "metadata": {},
   "outputs": [],
   "source": [
    "tweet_train = X_train.tolist()\n",
    "tweet_test = X_test.tolist()"
   ]
  },
  {
   "cell_type": "code",
   "execution_count": null,
   "id": "ee7d0748-766d-4a13-9ea1-b3c8f4440131",
   "metadata": {},
   "outputs": [],
   "source": [
    "# tweet_total = tweet_train+tweet_test"
   ]
  },
  {
   "cell_type": "code",
   "execution_count": 52,
   "id": "6212e3cd-75d2-43b0-b696-ba7f44e0dda7",
   "metadata": {},
   "outputs": [],
   "source": [
    "tweet_train_docs = clean_text_list(tweet_train)\n",
    "tweet_test_docs = clean_text_list(tweet_test)\n",
    "# print(tweet_docs[0])\n"
   ]
  },
  {
   "cell_type": "code",
   "execution_count": 67,
   "id": "d0081af3-1805-4c71-93be-3b0b7e1389dc",
   "metadata": {},
   "outputs": [
    {
     "data": {
      "text/plain": [
       "['watching', 'snl', 'sibling', 'like', 'good', 'old', 'day']"
      ]
     },
     "execution_count": 67,
     "metadata": {},
     "output_type": "execute_result"
    }
   ],
   "source": [
    "tweet_train_docs[0]"
   ]
  },
  {
   "cell_type": "code",
   "execution_count": 59,
   "id": "4aa32c7a-97c7-498c-abb2-64481d8c1116",
   "metadata": {},
   "outputs": [],
   "source": [
    "from nltk.tokenize.treebank import TreebankWordDetokenizer\n",
    "tweet_train_list =[]\n",
    "for i in range(len(tweet_train_docs)):\n",
    "  docs_detokenized = TreebankWordDetokenizer().detokenize(tweet_train_docs[i])\n",
    "  tweet_train_list.append(docs_detokenized )\n",
    "    \n",
    "tweet_test_list =[]\n",
    "for i in range(len(tweet_test_docs)):\n",
    "  docs_detokenized = TreebankWordDetokenizer().detokenize(tweet_test_docs[i])\n",
    "  tweet_test_list.append(docs_detokenized )"
   ]
  },
  {
   "cell_type": "code",
   "execution_count": 61,
   "id": "6358faeb-af87-4a96-871d-801f251c074b",
   "metadata": {},
   "outputs": [
    {
     "name": "stdout",
     "output_type": "stream",
     "text": [
      "11200\n",
      "4800\n"
     ]
    }
   ],
   "source": [
    "print(len(tweet_train_list))\n",
    "print(len(tweet_test_list))"
   ]
  },
  {
   "cell_type": "code",
   "execution_count": 64,
   "id": "0c1d463b-1727-4a1e-b5ac-cc5062a02ed6",
   "metadata": {},
   "outputs": [],
   "source": [
    "from sklearn.feature_extraction.text import CountVectorizer\n",
    "from sklearn.ensemble import RandomForestClassifier\n",
    "from sklearn.feature_extraction.text import CountVectorizer, TfidfTransformer\n",
    "from sklearn.pipeline import Pipeline"
   ]
  },
  {
   "cell_type": "code",
   "execution_count": null,
   "id": "20c72e1b-0cba-4f6b-acf9-c92b1d9459b6",
   "metadata": {},
   "outputs": [],
   "source": []
  },
  {
   "cell_type": "code",
   "execution_count": null,
   "id": "c0ab5555-005e-4986-8e2f-5954e1156cf1",
   "metadata": {
    "tags": []
   },
   "outputs": [],
   "source": [
    "## implement BAG OF WORDS\n",
    "countvector=CountVectorizer(ngram_range=(2,2))\n",
    "transformer = TfidfTransformer(norm='l2',sublinear_tf=True)"
   ]
  },
  {
   "cell_type": "code",
   "execution_count": null,
   "id": "c85c180a-4c2e-471c-8fe5-44cc37f51da0",
   "metadata": {},
   "outputs": [],
   "source": [
    "countvector.fit(tweet_train_list)\n",
    "train_dataset=countvector.transform(tweet_train_list)\n",
    "test_dataset=countvector.transform(tweet_test_list)\n",
    "transformer.fit(train_dataset)\n",
    "x_train_rf = transformer.transform(train_dataset)\n",
    "x_test_rf = transformer.transform(test_dataset)"
   ]
  },
  {
   "cell_type": "code",
   "execution_count": null,
   "id": "02c11a68-0a0c-41ff-91f8-d5fe774349fd",
   "metadata": {},
   "outputs": [
    {
     "name": "stdout",
     "output_type": "stream",
     "text": [
      "(11200, 56146)\n",
      "(4800, 56146)\n"
     ]
    }
   ],
   "source": [
    "print(x_train_rf.shape)\n",
    "print(x_test_rf.shape)"
   ]
  },
  {
   "cell_type": "code",
   "execution_count": 84,
   "id": "fbe8d343-a087-45ef-987e-da20de388921",
   "metadata": {},
   "outputs": [
    {
     "data": {
      "text/plain": [
       "RandomForestClassifier(criterion='entropy', n_estimators=200)"
      ]
     },
     "execution_count": 84,
     "metadata": {},
     "output_type": "execute_result"
    }
   ],
   "source": [
    "# implement RandomForest Classifier\n",
    "randomclassifier=RandomForestClassifier(n_estimators=200,criterion='entropy')\n",
    "randomclassifier.fit(x_train_rf,y_train)"
   ]
  },
  {
   "cell_type": "code",
   "execution_count": 86,
   "id": "efc23519-039f-4696-b07b-5da44896ecf0",
   "metadata": {
    "tags": []
   },
   "outputs": [],
   "source": [
    "y_pred_rf = randomclassifier.predict(x_test_rf)"
   ]
  },
  {
   "cell_type": "code",
   "execution_count": 87,
   "id": "d3e5c7e2-e22b-43a2-b1a3-6f548fe75b23",
   "metadata": {},
   "outputs": [
    {
     "data": {
      "text/plain": [
       "array([0, 1, 1, ..., 1, 0, 1], dtype=int64)"
      ]
     },
     "execution_count": 87,
     "metadata": {},
     "output_type": "execute_result"
    }
   ],
   "source": [
    "y_pred_rf"
   ]
  },
  {
   "cell_type": "code",
   "execution_count": 93,
   "id": "307fb35f-77b6-4e17-a48e-017e5c666f38",
   "metadata": {},
   "outputs": [
    {
     "data": {
      "image/png": "[encoded data removed]",
      "text/plain": [
       "<Figure size 432x288 with 2 Axes>"
      ]
     },
     "metadata": {
      "needs_background": "light"
     },
     "output_type": "display_data"
    }
   ],
   "source": [
    "cm = confusion_matrix(y_test, y_pred_rf )\n",
    "class_names = ['negative', 'positive']\n",
    "df_cm = pd.DataFrame(cm, index=class_names, columns=class_names)\n",
    "hmap = sns.heatmap(cm, annot=True, fmt=\"d\", cmap=\"Blues\")\n",
    "hmap.yaxis.set_ticklabels(hmap.yaxis.get_ticklabels(), rotation=0, ha='right')\n",
    "hmap.xaxis.set_ticklabels(hmap.xaxis.get_ticklabels(), rotation=30, ha='right')\n",
    "plt.ylabel('RFC True sentiment')\n",
    "plt.xlabel('RFC Predicted sentiment');"
   ]
  },
  {
   "cell_type": "code",
   "execution_count": 95,
   "id": "d3cd2aad-894f-40dd-bd53-8c06b27bdcf0",
   "metadata": {},
   "outputs": [
    {
     "data": {
      "text/plain": [
       "0.5958333333333333"
      ]
     },
     "execution_count": 95,
     "metadata": {},
     "output_type": "execute_result"
    }
   ],
   "source": [
    "accuracy_score(y_test, y_pred_rf)"
   ]
  },
  {
   "cell_type": "code",
   "execution_count": 169,
   "id": "8f75d6e5-4d9a-406b-9637-5337ef5b86f7",
   "metadata": {},
   "outputs": [
    {
     "name": "stdout",
     "output_type": "stream",
     "text": [
      "precision: 0.5058300943920044\n",
      "recall: 0.7591666666666667\n",
      "fscore: 0.6071309563478839\n",
      "support: 2400\n"
     ]
    }
   ],
   "source": [
    "metric_names = ['precision','recall','fscore','support']\n",
    "metric_values = precision_recall_fscore_support(y_test, y_pred_rf)\n",
    "for i in range(0, len(metric_values)):\n",
    "    print('{0}: {1}'.format(metric_names[i], metric_values[i][1]))"
   ]
  },
  {
   "cell_type": "code",
   "execution_count": 120,
   "id": "22c78ca8-5d11-4d02-9542-54d70f3c64d8",
   "metadata": {},
   "outputs": [
    {
     "data": {
      "text/plain": [
       "array([0, 1], dtype=int64)"
      ]
     },
     "execution_count": 120,
     "metadata": {},
     "output_type": "execute_result"
    }
   ],
   "source": [
    "randomclassifier.classes_"
   ]
  },
  {
   "cell_type": "code",
   "execution_count": 132,
   "id": "81511c16-5a66-4025-94e1-6b36db921e94",
   "metadata": {},
   "outputs": [
    {
     "data": {
      "text/plain": [
       "0.5147393229166668"
      ]
     },
     "execution_count": 132,
     "metadata": {},
     "output_type": "execute_result"
    }
   ],
   "source": [
    "roc_auc_score(y_test, randomclassifier.predict_proba(x_test_rf)[:,1])"
   ]
  },
  {
   "cell_type": "code",
   "execution_count": null,
   "id": "1b863d71-df9f-41b3-9a6a-dbd5abb6f187",
   "metadata": {},
   "outputs": [],
   "source": []
  }
 ],
 "metadata": {
  "kernelspec": {
   "display_name": "Python 3 (ipykernel)",
   "language": "python",
   "name": "python3"
  },
  "language_info": {
   "codemirror_mode": {
    "name": "ipython",
    "version": 3
   },
   "file_extension": ".py",
   "mimetype": "text/x-python",
   "name": "python",
   "nbconvert_exporter": "python",
   "pygments_lexer": "ipython3",
   "version": "3.9.12"
  }
 },
 "nbformat": 4,
 "nbformat_minor": 5
}
